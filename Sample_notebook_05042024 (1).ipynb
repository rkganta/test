{
 "cells": [
  {
   "cell_type": "code",
   "execution_count": 0,
   "metadata": {
    "application/vnd.databricks.v1+cell": {
     "cellMetadata": {
      "byteLimit": 2048000,
      "rowLimit": 10000
     },
     "inputWidgets": {},
     "nuid": "b2d3f4b0-53c1-4eb8-8249-0ed63140d280",
     "showTitle": false,
     "title": ""
    }
   },
   "outputs": [],
   "source": [
    "# boilerplate\n",
    "\n",
    "from pyspark.sql import *\n",
    "from pyspark.sql.functions import *\n",
    "from pyspark.sql.window import *\n",
    "\n",
    "# create spark session\n",
    "# /Workspace/Users/datakraft867@gmail.com/books.csv\n",
    "spark = SparkSession.builder.appName(\"books_query\").getOrCreate()\n",
    "books_df = spark.read.csv(\"/Volumes/datakraft_batch1/default/datasets/books.csv\", header=True, inferSchema=True)"
   ]
  },
  {
   "cell_type": "code",
   "execution_count": 0,
   "metadata": {
    "application/vnd.databricks.v1+cell": {
     "cellMetadata": {
      "byteLimit": 2048000,
      "rowLimit": 10000
     },
     "inputWidgets": {},
     "nuid": "1993067e-911f-4d27-8d6e-35d7f17ce863",
     "showTitle": false,
     "title": ""
    }
   },
   "outputs": [
    {
     "output_type": "execute_result",
     "data": {
      "text/plain": [
       "11127"
      ]
     },
     "execution_count": 2,
     "metadata": {},
     "output_type": "execute_result"
    }
   ],
   "source": [
    "books_df.count()"
   ]
  },
  {
   "cell_type": "code",
   "execution_count": 0,
   "metadata": {
    "application/vnd.databricks.v1+cell": {
     "cellMetadata": {
      "byteLimit": 2048000,
      "rowLimit": 10000
     },
     "inputWidgets": {},
     "nuid": "86f9a2fd-b8e1-4cb8-9b91-fa7bffbb619d",
     "showTitle": false,
     "title": ""
    }
   },
   "outputs": [
    {
     "output_type": "stream",
     "name": "stdout",
     "output_type": "stream",
     "text": [
      "+---------+--------------------+--------------+------+----------+-------------+-------------+----------------+---------------+-------------+------------------+--------------------+\n|num_pages|             authors|average_rating|bookID|      isbn|       isbn13|language_code|publication_date|      publisher|ratings_count|text_reviews_count|               title|\n+---------+--------------------+--------------+------+----------+-------------+-------------+----------------+---------------+-------------+------------------+--------------------+\n|      652|J.K. Rowling/Mary...|          4.57|     1|0439785960|9780439785969|          eng|       9/16/2006|Scholastic Inc.|      2095690|             27591|Harry Potter and ...|\n|      870|J.K. Rowling/Mary...|          4.49|     2|0439358078|9780439358071|          eng|        9/1/2004|Scholastic Inc.|      2153167|             29221|Harry Potter and ...|\n|      352|        J.K. Rowling|          4.42|     4|0439554896|9780439554893|          eng|       11/1/2003|     Scholastic|         6333|               244|Harry Potter and ...|\n|      435|J.K. Rowling/Mary...|          4.56|     5|043965548X|9780439655484|          eng|        5/1/2004|Scholastic Inc.|      2339585|             36325|Harry Potter and ...|\n|     2690|J.K. Rowling/Mary...|          4.78|     8|0439682584|9780439682589|          eng|       9/13/2004|     Scholastic|        41428|               164|Harry Potter Boxe...|\n|      152|W. Frederick Zimm...|          3.74|     9|0976540606|9780976540601|        en-US|       4/26/2005|   Nimble Books|           19|                 1|Unauthorized Harr...|\n|     3342|        J.K. Rowling|          4.73|    10|0439827604|9780439827607|          eng|       9/12/2005|     Scholastic|        28242|               808|Harry Potter Coll...|\n|      815|       Douglas Adams|          4.38|    12|0517226952|9780517226957|          eng|       11/1/2005| Gramercy Books|         3628|               254|The Ultimate Hitc...|\n|      815|       Douglas Adams|          4.38|    13|0345453743|9780345453747|          eng|       4/30/2002|  Del Rey Books|       249558|              4080|The Ultimate Hitc...|\n|      215|       Douglas Adams|          4.22|    14|1400052920|9781400052929|          eng|        8/3/2004|          Crown|         4930|               460|The Hitchhiker's ...|\n+---------+--------------------+--------------+------+----------+-------------+-------------+----------------+---------------+-------------+------------------+--------------------+\nonly showing top 10 rows\n\n"
     ]
    }
   ],
   "source": [
    "books_df.show(10)"
   ]
  },
  {
   "cell_type": "code",
   "execution_count": 0,
   "metadata": {
    "application/vnd.databricks.v1+cell": {
     "cellMetadata": {
      "byteLimit": 2048000,
      "rowLimit": 10000
     },
     "inputWidgets": {},
     "nuid": "25b9dc39-c741-4e0c-ad6c-4d53d995f70e",
     "showTitle": false,
     "title": ""
    }
   },
   "outputs": [],
   "source": [
    "books_df.createOrReplaceTempView(\"books_tbl\")"
   ]
  },
  {
   "cell_type": "code",
   "execution_count": 0,
   "metadata": {
    "application/vnd.databricks.v1+cell": {
     "cellMetadata": {
      "byteLimit": 2048000,
      "implicitDf": true,
      "rowLimit": 10000
     },
     "inputWidgets": {},
     "nuid": "636181fe-d7e9-4392-a89e-f36d5f52d694",
     "showTitle": false,
     "title": ""
    }
   },
   "outputs": [
    {
     "output_type": "display_data",
     "data": {
      "text/html": [
       "<style scoped>\n",
       "  .table-result-container {\n",
       "    max-height: 300px;\n",
       "    overflow: auto;\n",
       "  }\n",
       "  table, th, td {\n",
       "    border: 1px solid black;\n",
       "    border-collapse: collapse;\n",
       "  }\n",
       "  th, td {\n",
       "    padding: 5px;\n",
       "  }\n",
       "  th {\n",
       "    text-align: left;\n",
       "  }\n",
       "</style><div class='table-result-container'><table class='table-result'><thead style='background-color: white'><tr><th>num_pages</th><th>authors</th><th>average_rating</th><th>bookID</th><th>isbn</th><th>isbn13</th><th>language_code</th><th>publication_date</th><th>publisher</th><th>ratings_count</th><th>text_reviews_count</th><th>title</th></tr></thead><tbody><tr><td>652</td><td>J.K. Rowling/Mary GrandPré</td><td>4.57</td><td>1</td><td>0439785960</td><td>9780439785969</td><td>eng</td><td>9/16/2006</td><td>Scholastic Inc.</td><td>2095690</td><td>27591</td><td>Harry Potter and the Half-Blood Prince (Harry Potter  #6)</td></tr><tr><td>870</td><td>J.K. Rowling/Mary GrandPré</td><td>4.49</td><td>2</td><td>0439358078</td><td>9780439358071</td><td>eng</td><td>9/1/2004</td><td>Scholastic Inc.</td><td>2153167</td><td>29221</td><td>Harry Potter and the Order of the Phoenix (Harry Potter  #5)</td></tr><tr><td>352</td><td>J.K. Rowling</td><td>4.42</td><td>4</td><td>0439554896</td><td>9780439554893</td><td>eng</td><td>11/1/2003</td><td>Scholastic</td><td>6333</td><td>244</td><td>Harry Potter and the Chamber of Secrets (Harry Potter  #2)</td></tr><tr><td>435</td><td>J.K. Rowling/Mary GrandPré</td><td>4.56</td><td>5</td><td>043965548X</td><td>9780439655484</td><td>eng</td><td>5/1/2004</td><td>Scholastic Inc.</td><td>2339585</td><td>36325</td><td>Harry Potter and the Prisoner of Azkaban (Harry Potter  #3)</td></tr><tr><td>2690</td><td>J.K. Rowling/Mary GrandPré</td><td>4.78</td><td>8</td><td>0439682584</td><td>9780439682589</td><td>eng</td><td>9/13/2004</td><td>Scholastic</td><td>41428</td><td>164</td><td>Harry Potter Boxed Set  Books 1-5 (Harry Potter  #1-5)</td></tr><tr><td>152</td><td>W. Frederick Zimmerman</td><td>3.74</td><td>9</td><td>0976540606</td><td>9780976540601</td><td>en-US</td><td>4/26/2005</td><td>Nimble Books</td><td>19</td><td>1</td><td>Unauthorized Harry Potter Book Seven News: Half-Blood Prince Analysis and Speculation</td></tr><tr><td>3342</td><td>J.K. Rowling</td><td>4.73</td><td>10</td><td>0439827604</td><td>9780439827607</td><td>eng</td><td>9/12/2005</td><td>Scholastic</td><td>28242</td><td>808</td><td>Harry Potter Collection (Harry Potter  #1-6)</td></tr><tr><td>815</td><td>Douglas Adams</td><td>4.38</td><td>12</td><td>0517226952</td><td>9780517226957</td><td>eng</td><td>11/1/2005</td><td>Gramercy Books</td><td>3628</td><td>254</td><td>The Ultimate Hitchhiker's Guide: Five Complete Novels and One Story (Hitchhiker's Guide to the Galaxy  #1-5)</td></tr><tr><td>815</td><td>Douglas Adams</td><td>4.38</td><td>13</td><td>0345453743</td><td>9780345453747</td><td>eng</td><td>4/30/2002</td><td>Del Rey Books</td><td>249558</td><td>4080</td><td>The Ultimate Hitchhiker's Guide to the Galaxy (Hitchhiker's Guide to the Galaxy  #1-5)</td></tr><tr><td>215</td><td>Douglas Adams</td><td>4.22</td><td>14</td><td>1400052920</td><td>9781400052929</td><td>eng</td><td>8/3/2004</td><td>Crown</td><td>4930</td><td>460</td><td>The Hitchhiker's Guide to the Galaxy (Hitchhiker's Guide to the Galaxy  #1)</td></tr></tbody></table></div>"
      ]
     },
     "metadata": {
      "application/vnd.databricks.v1+output": {
       "addedWidgets": {},
       "aggData": [],
       "aggError": "",
       "aggOverflow": false,
       "aggSchema": [],
       "aggSeriesLimitReached": false,
       "aggType": "",
       "arguments": {},
       "columnCustomDisplayInfos": {},
       "data": [
        [
         "652",
         "J.K. Rowling/Mary GrandPré",
         "4.57",
         1,
         "0439785960",
         "9780439785969",
         "eng",
         "9/16/2006",
         "Scholastic Inc.",
         2095690,
         27591,
         "Harry Potter and the Half-Blood Prince (Harry Potter  #6)"
        ],
        [
         "870",
         "J.K. Rowling/Mary GrandPré",
         "4.49",
         2,
         "0439358078",
         "9780439358071",
         "eng",
         "9/1/2004",
         "Scholastic Inc.",
         2153167,
         29221,
         "Harry Potter and the Order of the Phoenix (Harry Potter  #5)"
        ],
        [
         "352",
         "J.K. Rowling",
         "4.42",
         4,
         "0439554896",
         "9780439554893",
         "eng",
         "11/1/2003",
         "Scholastic",
         6333,
         244,
         "Harry Potter and the Chamber of Secrets (Harry Potter  #2)"
        ],
        [
         "435",
         "J.K. Rowling/Mary GrandPré",
         "4.56",
         5,
         "043965548X",
         "9780439655484",
         "eng",
         "5/1/2004",
         "Scholastic Inc.",
         2339585,
         36325,
         "Harry Potter and the Prisoner of Azkaban (Harry Potter  #3)"
        ],
        [
         "2690",
         "J.K. Rowling/Mary GrandPré",
         "4.78",
         8,
         "0439682584",
         "9780439682589",
         "eng",
         "9/13/2004",
         "Scholastic",
         41428,
         164,
         "Harry Potter Boxed Set  Books 1-5 (Harry Potter  #1-5)"
        ],
        [
         "152",
         "W. Frederick Zimmerman",
         "3.74",
         9,
         "0976540606",
         "9780976540601",
         "en-US",
         "4/26/2005",
         "Nimble Books",
         19,
         1,
         "Unauthorized Harry Potter Book Seven News: Half-Blood Prince Analysis and Speculation"
        ],
        [
         "3342",
         "J.K. Rowling",
         "4.73",
         10,
         "0439827604",
         "9780439827607",
         "eng",
         "9/12/2005",
         "Scholastic",
         28242,
         808,
         "Harry Potter Collection (Harry Potter  #1-6)"
        ],
        [
         "815",
         "Douglas Adams",
         "4.38",
         12,
         "0517226952",
         "9780517226957",
         "eng",
         "11/1/2005",
         "Gramercy Books",
         3628,
         254,
         "The Ultimate Hitchhiker's Guide: Five Complete Novels and One Story (Hitchhiker's Guide to the Galaxy  #1-5)"
        ],
        [
         "815",
         "Douglas Adams",
         "4.38",
         13,
         "0345453743",
         "9780345453747",
         "eng",
         "4/30/2002",
         "Del Rey Books",
         249558,
         4080,
         "The Ultimate Hitchhiker's Guide to the Galaxy (Hitchhiker's Guide to the Galaxy  #1-5)"
        ],
        [
         "215",
         "Douglas Adams",
         "4.22",
         14,
         "1400052920",
         "9781400052929",
         "eng",
         "8/3/2004",
         "Crown",
         4930,
         460,
         "The Hitchhiker's Guide to the Galaxy (Hitchhiker's Guide to the Galaxy  #1)"
        ]
       ],
       "datasetInfos": [
        {
         "name": "_sqldf",
         "schema": {
          "fields": [
           {
            "metadata": {},
            "name": "num_pages",
            "nullable": true,
            "type": "string"
           },
           {
            "metadata": {},
            "name": "authors",
            "nullable": true,
            "type": "string"
           },
           {
            "metadata": {},
            "name": "average_rating",
            "nullable": true,
            "type": "string"
           },
           {
            "metadata": {},
            "name": "bookID",
            "nullable": true,
            "type": "integer"
           },
           {
            "metadata": {},
            "name": "isbn",
            "nullable": true,
            "type": "string"
           },
           {
            "metadata": {},
            "name": "isbn13",
            "nullable": true,
            "type": "string"
           },
           {
            "metadata": {},
            "name": "language_code",
            "nullable": true,
            "type": "string"
           },
           {
            "metadata": {},
            "name": "publication_date",
            "nullable": true,
            "type": "string"
           },
           {
            "metadata": {},
            "name": "publisher",
            "nullable": true,
            "type": "string"
           },
           {
            "metadata": {},
            "name": "ratings_count",
            "nullable": true,
            "type": "integer"
           },
           {
            "metadata": {},
            "name": "text_reviews_count",
            "nullable": true,
            "type": "integer"
           },
           {
            "metadata": {},
            "name": "title",
            "nullable": true,
            "type": "string"
           }
          ],
          "type": "struct"
         },
         "tableIdentifier": null,
         "typeStr": "pyspark.sql.connect.dataframe.DataFrame"
        }
       ],
       "dbfsResultPath": null,
       "isJsonSchema": true,
       "metadata": {
        "dataframeName": "_sqldf",
        "executionCount": 32
       },
       "overflow": false,
       "plotOptions": {
        "customPlotOptions": {},
        "displayType": "table",
        "pivotAggregation": null,
        "pivotColumns": null,
        "xColumns": null,
        "yColumns": null
       },
       "removedWidgets": [],
       "schema": [
        {
         "metadata": "{}",
         "name": "num_pages",
         "type": "\"string\""
        },
        {
         "metadata": "{}",
         "name": "authors",
         "type": "\"string\""
        },
        {
         "metadata": "{}",
         "name": "average_rating",
         "type": "\"string\""
        },
        {
         "metadata": "{}",
         "name": "bookID",
         "type": "\"integer\""
        },
        {
         "metadata": "{}",
         "name": "isbn",
         "type": "\"string\""
        },
        {
         "metadata": "{}",
         "name": "isbn13",
         "type": "\"string\""
        },
        {
         "metadata": "{}",
         "name": "language_code",
         "type": "\"string\""
        },
        {
         "metadata": "{}",
         "name": "publication_date",
         "type": "\"string\""
        },
        {
         "metadata": "{}",
         "name": "publisher",
         "type": "\"string\""
        },
        {
         "metadata": "{}",
         "name": "ratings_count",
         "type": "\"integer\""
        },
        {
         "metadata": "{}",
         "name": "text_reviews_count",
         "type": "\"integer\""
        },
        {
         "metadata": "{}",
         "name": "title",
         "type": "\"string\""
        }
       ],
       "type": "table"
      }
     },
     "output_type": "display_data"
    }
   ],
   "source": [
    "%sql\n",
    "\n",
    "SELECT * FROM books_tbl limit 10;"
   ]
  },
  {
   "cell_type": "code",
   "execution_count": 0,
   "metadata": {
    "application/vnd.databricks.v1+cell": {
     "cellMetadata": {
      "byteLimit": 2048000,
      "rowLimit": 10000
     },
     "inputWidgets": {},
     "nuid": "873387cb-51e6-4707-8d03-c813bfda1e3d",
     "showTitle": false,
     "title": ""
    }
   },
   "outputs": [],
   "source": [
    "# How many total books are present in the database? --> 11127\n",
    "# what is the total page count of all books published by Bill Bryson?\n",
    "# for books published in 2021, what is the average book rating?"
   ]
  },
  {
   "cell_type": "code",
   "execution_count": 0,
   "metadata": {
    "application/vnd.databricks.v1+cell": {
     "cellMetadata": {
      "byteLimit": 2048000,
      "rowLimit": 10000
     },
     "inputWidgets": {},
     "nuid": "c7cbb649-0ef2-4030-9ab3-8a3297a3c0a6",
     "showTitle": false,
     "title": ""
    }
   },
   "outputs": [
    {
     "output_type": "stream",
     "name": "stdout",
     "output_type": "stream",
     "text": [
      "+---------+\n|books_cnt|\n+---------+\n|    11127|\n+---------+\n\n"
     ]
    }
   ],
   "source": [
    "# How many total books are present in the database?\n",
    "books_cnt = spark.sql(\\\n",
    "    f\"\"\"\n",
    "    SELECT COUNT(isbn) as books_cnt FROM books_tbl\n",
    "    \"\"\").show()"
   ]
  },
  {
   "cell_type": "code",
   "execution_count": 0,
   "metadata": {
    "application/vnd.databricks.v1+cell": {
     "cellMetadata": {
      "byteLimit": 2048000,
      "rowLimit": 10000
     },
     "inputWidgets": {},
     "nuid": "6dfec07e-2bff-46cb-b74b-3ac2c808f2f7",
     "showTitle": false,
     "title": ""
    }
   },
   "outputs": [
    {
     "output_type": "stream",
     "name": "stdout",
     "output_type": "stream",
     "text": [
      "root\n |-- num_pages: string (nullable = true)\n |-- authors: string (nullable = true)\n |-- average_rating: string (nullable = true)\n |-- bookID: integer (nullable = true)\n |-- isbn: string (nullable = true)\n |-- isbn13: string (nullable = true)\n |-- language_code: string (nullable = true)\n |-- publication_date: string (nullable = true)\n |-- publisher: string (nullable = true)\n |-- ratings_count: integer (nullable = true)\n |-- text_reviews_count: integer (nullable = true)\n |-- title: string (nullable = true)\n\n"
     ]
    }
   ],
   "source": [
    "# what is the total page count of all books published by Bill Bryson?\n",
    "books_df.printSchema()\n"
   ]
  },
  {
   "cell_type": "code",
   "execution_count": 0,
   "metadata": {
    "application/vnd.databricks.v1+cell": {
     "cellMetadata": {
      "byteLimit": 2048000,
      "rowLimit": 10000
     },
     "inputWidgets": {},
     "nuid": "4940d640-4f34-4715-80ca-1a12c0f47283",
     "showTitle": false,
     "title": ""
    }
   },
   "outputs": [],
   "source": [
    "books_df = books_df.withColumn(\"num_pages\", col(\"num_pages\").cast(\"integer\"))\n"
   ]
  },
  {
   "cell_type": "code",
   "execution_count": 0,
   "metadata": {
    "application/vnd.databricks.v1+cell": {
     "cellMetadata": {
      "byteLimit": 2048000,
      "rowLimit": 10000
     },
     "inputWidgets": {},
     "nuid": "01684462-c79c-4ff9-89ed-6868ab4f20f8",
     "showTitle": false,
     "title": ""
    }
   },
   "outputs": [
    {
     "output_type": "stream",
     "name": "stdout",
     "output_type": "stream",
     "text": [
      "root\n |-- num_pages: integer (nullable = true)\n |-- authors: string (nullable = true)\n |-- average_rating: string (nullable = true)\n |-- bookID: integer (nullable = true)\n |-- isbn: string (nullable = true)\n |-- isbn13: string (nullable = true)\n |-- language_code: string (nullable = true)\n |-- publication_date: string (nullable = true)\n |-- publisher: string (nullable = true)\n |-- ratings_count: integer (nullable = true)\n |-- text_reviews_count: integer (nullable = true)\n |-- title: string (nullable = true)\n\n"
     ]
    }
   ],
   "source": [
    "books_df.printSchema()"
   ]
  },
  {
   "cell_type": "code",
   "execution_count": 0,
   "metadata": {
    "application/vnd.databricks.v1+cell": {
     "cellMetadata": {
      "byteLimit": 2048000,
      "rowLimit": 10000
     },
     "inputWidgets": {},
     "nuid": "070d3bbc-dc78-4cc6-a2bc-ea8e9c0731be",
     "showTitle": false,
     "title": ""
    }
   },
   "outputs": [
    {
     "output_type": "stream",
     "name": "stdout",
     "output_type": "stream",
     "text": [
      "+--------------+\n|sum(num_pages)|\n+--------------+\n|        6865.0|\n+--------------+\n\n"
     ]
    }
   ],
   "source": [
    "# # what is the total page count of all books published by Bill Bryson?\n",
    "tot_pg_bb = spark.sql(\\\n",
    "    f\"\"\"\n",
    "    SELECT SUM(num_pages)\n",
    "    FROM books_tbl\n",
    "    WHERE authors = \"Bill Bryson\"\n",
    "    \"\"\").show()"
   ]
  },
  {
   "cell_type": "code",
   "execution_count": 0,
   "metadata": {
    "application/vnd.databricks.v1+cell": {
     "cellMetadata": {
      "byteLimit": 2048000,
      "rowLimit": 10000
     },
     "inputWidgets": {},
     "nuid": "64fd2080-b279-41d4-a4a7-9b973a9dc8f7",
     "showTitle": false,
     "title": ""
    }
   },
   "outputs": [
    {
     "output_type": "stream",
     "name": "stdout",
     "output_type": "stream",
     "text": [
      "+----+----------+\n|  yr|avg_rating|\n+----+----------+\n|1943|      4.21|\n+----+----------+\n\n"
     ]
    }
   ],
   "source": [
    "# # How many books did each author release every year? Please note that the authors field may contain multiple authors. Output should include author, published_year_cnt\n",
    "# for books published in 1943, what is the average book rating?\n",
    "# extract year from pub date\n",
    "# get overall rating for that yer \n",
    "\n",
    "avg_rating = spark.sql(\\\n",
    "  f\"\"\"\n",
    "  WITH CTE AS (\n",
    "  SELECT \n",
    "  CAST(RIGHT(publication_date, 4) AS INT) AS yr,\n",
    "  ROUND(AVG(average_rating),2) AS avg_rating\n",
    "  FROM books_tbl\n",
    "  GROUP BY 1\n",
    "  ORDER BY 1\n",
    "  )\n",
    "  \"\"\").show()"
   ]
  },
  {
   "cell_type": "code",
   "execution_count": 0,
   "metadata": {
    "application/vnd.databricks.v1+cell": {
     "cellMetadata": {
      "byteLimit": 2048000,
      "rowLimit": 10000
     },
     "inputWidgets": {},
     "nuid": "c733f25c-1b21-4a53-bf45-8b45229064db",
     "showTitle": false,
     "title": ""
    }
   },
   "outputs": [
    {
     "output_type": "display_data",
     "data": {
      "text/html": [
       "<style scoped>\n",
       "  .table-result-container {\n",
       "    max-height: 300px;\n",
       "    overflow: auto;\n",
       "  }\n",
       "  table, th, td {\n",
       "    border: 1px solid black;\n",
       "    border-collapse: collapse;\n",
       "  }\n",
       "  th, td {\n",
       "    padding: 5px;\n",
       "  }\n",
       "  th {\n",
       "    text-align: left;\n",
       "  }\n",
       "</style><div class='table-result-container'><table class='table-result'><thead style='background-color: white'><tr><th>authors</th></tr></thead><tbody><tr><td>Dan Brown/Paul Michael</td></tr><tr><td>Dan Brown/Raúl Amundaray</td></tr><tr><td>Dan Brown/Daniel Roche</td></tr><tr><td>Dan Brown/Eduardo García Murillo</td></tr><tr><td>Dan Brown</td></tr><tr><td>Dan Brown/Juanjo Estrella</td></tr></tbody></table></div>"
      ]
     },
     "metadata": {
      "application/vnd.databricks.v1+output": {
       "addedWidgets": {},
       "aggData": [],
       "aggError": "",
       "aggOverflow": false,
       "aggSchema": [],
       "aggSeriesLimitReached": false,
       "aggType": "",
       "arguments": {},
       "columnCustomDisplayInfos": {},
       "data": [
        [
         "Dan Brown/Paul Michael"
        ],
        [
         "Dan Brown/Raúl Amundaray"
        ],
        [
         "Dan Brown/Daniel Roche"
        ],
        [
         "Dan Brown/Eduardo García Murillo"
        ],
        [
         "Dan Brown"
        ],
        [
         "Dan Brown/Juanjo Estrella"
        ]
       ],
       "datasetInfos": [],
       "dbfsResultPath": null,
       "isJsonSchema": true,
       "metadata": {},
       "overflow": false,
       "plotOptions": {
        "customPlotOptions": {},
        "displayType": "table",
        "pivotAggregation": null,
        "pivotColumns": null,
        "xColumns": null,
        "yColumns": null
       },
       "removedWidgets": [],
       "schema": [
        {
         "metadata": "{}",
         "name": "authors",
         "type": "\"string\""
        }
       ],
       "type": "table"
      }
     },
     "output_type": "display_data"
    }
   ],
   "source": [
    "# Oxford University Press and published in 1988, list the books?; Output --> publisher, year, book_title\n",
    "# Which publisher had the books with the highest rating; # publisher, book_title, rating\n",
    "# How many books did Dan Brown publish? # all books published by Dan Brown (even as co-author) # author, book_title, publication_date, \n",
    "# which book had highest text_reviews_count? # book_tile, text_reviews_count\n",
    "\n",
    "\n",
    "publisher = spark.sql(\\\n",
    "    f\"\"\"\n",
    "    SELECT DISTINCT authors\n",
    "    FROM books_tbl\n",
    "    WHERE authors like '%Dan Brown%'\n",
    "    \"\"\").display()"
   ]
  }
 ],
 "metadata": {
  "application/vnd.databricks.v1+notebook": {
   "dashboards": [],
   "language": "python",
   "notebookMetadata": {
    "mostRecentlyExecutedCommandWithImplicitDF": {
     "commandId": 2462228214939701,
     "dataframes": [
      "_sqldf"
     ]
    },
    "pythonIndentUnit": 4
   },
   "notebookName": "Sample_notebook_05042024",
   "widgets": {}
  }
 },
 "nbformat": 4,
 "nbformat_minor": 0
}
