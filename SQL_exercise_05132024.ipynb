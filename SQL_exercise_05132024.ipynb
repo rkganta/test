{
 "cells": [
  {
   "cell_type": "code",
   "execution_count": 0,
   "metadata": {
    "application/vnd.databricks.v1+cell": {
     "cellMetadata": {
      "byteLimit": 2048000,
      "rowLimit": 10000
     },
     "inputWidgets": {},
     "nuid": "b2d3f4b0-53c1-4eb8-8249-0ed63140d280",
     "showTitle": false,
     "title": ""
    }
   },
   "outputs": [],
   "source": [
    "\n",
    "# boilerplate\n",
    "\n",
    "from pyspark.sql import *\n",
    "from pyspark.sql.functions import *\n",
    "from pyspark.sql.window import *\n",
    "\n",
    "# create spark session\n",
    "# /Workspace/Users/datakraft867@gmail.com/books.csv\n",
    "spark = SparkSession.builder.appName(\"la_crime_query\").getOrCreate()\n",
    "la_df = spark.read.csv(\"/Volumes/datakraft_batch1/default/datasets/la_crime_data.csv\", header=True, inferSchema=True)"
   ]
  },
  {
   "cell_type": "code",
   "execution_count": 0,
   "metadata": {
    "application/vnd.databricks.v1+cell": {
     "cellMetadata": {
      "byteLimit": 2048000,
      "rowLimit": 10000
     },
     "inputWidgets": {},
     "nuid": "1993067e-911f-4d27-8d6e-35d7f17ce863",
     "showTitle": false,
     "title": ""
    }
   },
   "outputs": [
    {
     "output_type": "execute_result",
     "data": {
      "text/plain": [
       "726531"
      ]
     },
     "execution_count": 3,
     "metadata": {},
     "output_type": "execute_result"
    }
   ],
   "source": [
    "la_df.count()"
   ]
  },
  {
   "cell_type": "code",
   "execution_count": 0,
   "metadata": {
    "application/vnd.databricks.v1+cell": {
     "cellMetadata": {
      "byteLimit": 2048000,
      "rowLimit": 10000
     },
     "inputWidgets": {},
     "nuid": "25b9dc39-c741-4e0c-ad6c-4d53d995f70e",
     "showTitle": false,
     "title": ""
    }
   },
   "outputs": [],
   "source": [
    "la_df.createOrReplaceTempView(\"la_tbl\")"
   ]
  },
  {
   "cell_type": "code",
   "execution_count": 0,
   "metadata": {
    "application/vnd.databricks.v1+cell": {
     "cellMetadata": {
      "byteLimit": 2048000,
      "implicitDf": true,
      "rowLimit": 10000
     },
     "inputWidgets": {},
     "nuid": "636181fe-d7e9-4392-a89e-f36d5f52d694",
     "showTitle": false,
     "title": ""
    }
   },
   "outputs": [
    {
     "output_type": "display_data",
     "data": {
      "text/html": [
       "<style scoped>\n",
       "  .table-result-container {\n",
       "    max-height: 300px;\n",
       "    overflow: auto;\n",
       "  }\n",
       "  table, th, td {\n",
       "    border: 1px solid black;\n",
       "    border-collapse: collapse;\n",
       "  }\n",
       "  th, td {\n",
       "    padding: 5px;\n",
       "  }\n",
       "  th {\n",
       "    text-align: left;\n",
       "  }\n",
       "</style><div class='table-result-container'><table class='table-result'><thead style='background-color: white'><tr><th>DR_NO</th><th>Date Rptd</th><th>DATE OCC</th><th>TIME OCC</th><th>AREA</th><th>AREA NAME</th><th>Rpt Dist No</th><th>Part 1-2</th><th>Crm Cd</th><th>Crm Cd Desc</th><th>Mocodes</th><th>Vict Age</th><th>Vict Sex</th><th>Vict Descent</th><th>Premis Cd</th><th>Premis Desc</th><th>Weapon Used Cd</th><th>Weapon Desc</th><th>Status</th><th>Status Desc</th><th>Crm Cd 1</th><th>Crm Cd 2</th><th>Crm Cd 3</th><th>Crm Cd 4</th><th>LOCATION</th><th>Cross Street</th><th>LAT</th><th>LON</th></tr></thead><tbody><tr><td>10304468</td><td>01/08/2020 12:00:00 AM</td><td>01/08/2020 12:00:00 AM</td><td>2230</td><td>3</td><td>Southwest</td><td>377</td><td>2</td><td>624</td><td>BATTERY - SIMPLE ASSAULT</td><td>0444 0913</td><td>36</td><td>F</td><td>B</td><td>501</td><td>SINGLE FAMILY DWELLING</td><td>400</td><td>STRONG-ARM (HANDS, FIST, FEET OR BODILY FORCE)</td><td>AO</td><td>Adult Other</td><td>624</td><td>null</td><td>null</td><td>null</td><td>1100 W  39TH                         PL</td><td>null</td><td>34.0141</td><td>-118.2978</td></tr><tr><td>190101086</td><td>01/02/2020 12:00:00 AM</td><td>01/01/2020 12:00:00 AM</td><td>330</td><td>1</td><td>Central</td><td>163</td><td>2</td><td>624</td><td>BATTERY - SIMPLE ASSAULT</td><td>0416 1822 1414</td><td>25</td><td>M</td><td>H</td><td>102</td><td>SIDEWALK</td><td>500</td><td>UNKNOWN WEAPON/OTHER WEAPON</td><td>IC</td><td>Invest Cont</td><td>624</td><td>null</td><td>null</td><td>null</td><td>700 S  HILL                         ST</td><td>null</td><td>34.0459</td><td>-118.2545</td></tr><tr><td>200110444</td><td>04/14/2020 12:00:00 AM</td><td>02/13/2020 12:00:00 AM</td><td>1200</td><td>1</td><td>Central</td><td>155</td><td>2</td><td>845</td><td>SEX OFFENDER REGISTRANT OUT OF COMPLIANCE</td><td>1501</td><td>0</td><td>X</td><td>X</td><td>726</td><td>POLICE FACILITY</td><td>null</td><td>null</td><td>AA</td><td>Adult Arrest</td><td>845</td><td>null</td><td>null</td><td>null</td><td>200 E  6TH                          ST</td><td>null</td><td>34.0448</td><td>-118.2474</td></tr><tr><td>191501505</td><td>01/01/2020 12:00:00 AM</td><td>01/01/2020 12:00:00 AM</td><td>1730</td><td>15</td><td>N Hollywood</td><td>1543</td><td>2</td><td>745</td><td>VANDALISM - MISDEAMEANOR ($399 OR UNDER)</td><td>0329 1402</td><td>76</td><td>F</td><td>W</td><td>502</td><td>MULTI-UNIT DWELLING (APARTMENT, DUPLEX, ETC)</td><td>null</td><td>null</td><td>IC</td><td>Invest Cont</td><td>745</td><td>998</td><td>null</td><td>null</td><td>5400    CORTEEN                      PL</td><td>null</td><td>34.1685</td><td>-118.4019</td></tr><tr><td>191921269</td><td>01/01/2020 12:00:00 AM</td><td>01/01/2020 12:00:00 AM</td><td>415</td><td>19</td><td>Mission</td><td>1998</td><td>2</td><td>740</td><td>VANDALISM - FELONY ($400 & OVER, ALL CHURCH VANDALISMS)</td><td>0329</td><td>31</td><td>X</td><td>X</td><td>409</td><td>BEAUTY SUPPLY STORE</td><td>null</td><td>null</td><td>IC</td><td>Invest Cont</td><td>740</td><td>null</td><td>null</td><td>null</td><td>14400    TITUS                        ST</td><td>null</td><td>34.2198</td><td>-118.4468</td></tr><tr><td>200100501</td><td>01/02/2020 12:00:00 AM</td><td>01/01/2020 12:00:00 AM</td><td>30</td><td>1</td><td>Central</td><td>163</td><td>1</td><td>121</td><td>RAPE, FORCIBLE</td><td>0413 1822 1262 1415</td><td>25</td><td>F</td><td>H</td><td>735</td><td>NIGHT CLUB (OPEN EVENINGS ONLY)</td><td>500</td><td>UNKNOWN WEAPON/OTHER WEAPON</td><td>IC</td><td>Invest Cont</td><td>121</td><td>998</td><td>null</td><td>null</td><td>700 S  BROADWAY</td><td>null</td><td>34.0452</td><td>-118.2534</td></tr><tr><td>200100502</td><td>01/02/2020 12:00:00 AM</td><td>01/02/2020 12:00:00 AM</td><td>1315</td><td>1</td><td>Central</td><td>161</td><td>1</td><td>442</td><td>SHOPLIFTING - PETTY THEFT ($950 & UNDER)</td><td>1402 2004 0344 0387</td><td>23</td><td>M</td><td>H</td><td>404</td><td>DEPARTMENT STORE</td><td>null</td><td>null</td><td>IC</td><td>Invest Cont</td><td>442</td><td>998</td><td>null</td><td>null</td><td>700 S  FIGUEROA                     ST</td><td>null</td><td>34.0483</td><td>-118.2631</td></tr><tr><td>200100504</td><td>01/04/2020 12:00:00 AM</td><td>01/04/2020 12:00:00 AM</td><td>40</td><td>1</td><td>Central</td><td>155</td><td>2</td><td>946</td><td>OTHER MISCELLANEOUS CRIME</td><td>1402 0392</td><td>0</td><td>X</td><td>X</td><td>726</td><td>POLICE FACILITY</td><td>null</td><td>null</td><td>IC</td><td>Invest Cont</td><td>946</td><td>998</td><td>null</td><td>null</td><td>200 E  6TH                          ST</td><td>null</td><td>34.0448</td><td>-118.2474</td></tr><tr><td>200100507</td><td>01/04/2020 12:00:00 AM</td><td>01/04/2020 12:00:00 AM</td><td>200</td><td>1</td><td>Central</td><td>101</td><td>1</td><td>341</td><td>THEFT-GRAND ($950.01 & OVER)EXCPT,GUNS,FOWL,LIVESTK,PROD</td><td>1822 0344 1402</td><td>23</td><td>M</td><td>B</td><td>502</td><td>MULTI-UNIT DWELLING (APARTMENT, DUPLEX, ETC)</td><td>null</td><td>null</td><td>IC</td><td>Invest Cont</td><td>341</td><td>998</td><td>null</td><td>null</td><td>700    BERNARD                      ST</td><td>null</td><td>34.0677</td><td>-118.2398</td></tr><tr><td>201710201</td><td>06/19/2020 12:00:00 AM</td><td>05/26/2020 12:00:00 AM</td><td>1925</td><td>17</td><td>Devonshire</td><td>1708</td><td>1</td><td>341</td><td>THEFT-GRAND ($950.01 & OVER)EXCPT,GUNS,FOWL,LIVESTK,PROD</td><td>1300 0202 0378 0325</td><td>0</td><td>X</td><td>X</td><td>203</td><td>OTHER BUSINESS</td><td>null</td><td>null</td><td>AO</td><td>Adult Other</td><td>341</td><td>null</td><td>null</td><td>null</td><td>11900    BALBOA                       BL</td><td>null</td><td>34.2864</td><td>-118.5021</td></tr></tbody></table></div>"
      ]
     },
     "metadata": {
      "application/vnd.databricks.v1+output": {
       "addedWidgets": {},
       "aggData": [],
       "aggError": "",
       "aggOverflow": false,
       "aggSchema": [],
       "aggSeriesLimitReached": false,
       "aggType": "",
       "arguments": {},
       "columnCustomDisplayInfos": {},
       "data": [
        [
         10304468,
         "01/08/2020 12:00:00 AM",
         "01/08/2020 12:00:00 AM",
         2230,
         3,
         "Southwest",
         377,
         2,
         624,
         "BATTERY - SIMPLE ASSAULT",
         "0444 0913",
         36,
         "F",
         "B",
         501,
         "SINGLE FAMILY DWELLING",
         400,
         "STRONG-ARM (HANDS, FIST, FEET OR BODILY FORCE)",
         "AO",
         "Adult Other",
         624,
         null,
         null,
         null,
         "1100 W  39TH                         PL",
         null,
         34.0141,
         -118.2978
        ],
        [
         190101086,
         "01/02/2020 12:00:00 AM",
         "01/01/2020 12:00:00 AM",
         330,
         1,
         "Central",
         163,
         2,
         624,
         "BATTERY - SIMPLE ASSAULT",
         "0416 1822 1414",
         25,
         "M",
         "H",
         102,
         "SIDEWALK",
         500,
         "UNKNOWN WEAPON/OTHER WEAPON",
         "IC",
         "Invest Cont",
         624,
         null,
         null,
         null,
         "700 S  HILL                         ST",
         null,
         34.0459,
         -118.2545
        ],
        [
         200110444,
         "04/14/2020 12:00:00 AM",
         "02/13/2020 12:00:00 AM",
         1200,
         1,
         "Central",
         155,
         2,
         845,
         "SEX OFFENDER REGISTRANT OUT OF COMPLIANCE",
         "1501",
         0,
         "X",
         "X",
         726,
         "POLICE FACILITY",
         null,
         null,
         "AA",
         "Adult Arrest",
         845,
         null,
         null,
         null,
         "200 E  6TH                          ST",
         null,
         34.0448,
         -118.2474
        ],
        [
         191501505,
         "01/01/2020 12:00:00 AM",
         "01/01/2020 12:00:00 AM",
         1730,
         15,
         "N Hollywood",
         1543,
         2,
         745,
         "VANDALISM - MISDEAMEANOR ($399 OR UNDER)",
         "0329 1402",
         76,
         "F",
         "W",
         502,
         "MULTI-UNIT DWELLING (APARTMENT, DUPLEX, ETC)",
         null,
         null,
         "IC",
         "Invest Cont",
         745,
         998,
         null,
         null,
         "5400    CORTEEN                      PL",
         null,
         34.1685,
         -118.4019
        ],
        [
         191921269,
         "01/01/2020 12:00:00 AM",
         "01/01/2020 12:00:00 AM",
         415,
         19,
         "Mission",
         1998,
         2,
         740,
         "VANDALISM - FELONY ($400 & OVER, ALL CHURCH VANDALISMS)",
         "0329",
         31,
         "X",
         "X",
         409,
         "BEAUTY SUPPLY STORE",
         null,
         null,
         "IC",
         "Invest Cont",
         740,
         null,
         null,
         null,
         "14400    TITUS                        ST",
         null,
         34.2198,
         -118.4468
        ],
        [
         200100501,
         "01/02/2020 12:00:00 AM",
         "01/01/2020 12:00:00 AM",
         30,
         1,
         "Central",
         163,
         1,
         121,
         "RAPE, FORCIBLE",
         "0413 1822 1262 1415",
         25,
         "F",
         "H",
         735,
         "NIGHT CLUB (OPEN EVENINGS ONLY)",
         500,
         "UNKNOWN WEAPON/OTHER WEAPON",
         "IC",
         "Invest Cont",
         121,
         998,
         null,
         null,
         "700 S  BROADWAY",
         null,
         34.0452,
         -118.2534
        ],
        [
         200100502,
         "01/02/2020 12:00:00 AM",
         "01/02/2020 12:00:00 AM",
         1315,
         1,
         "Central",
         161,
         1,
         442,
         "SHOPLIFTING - PETTY THEFT ($950 & UNDER)",
         "1402 2004 0344 0387",
         23,
         "M",
         "H",
         404,
         "DEPARTMENT STORE",
         null,
         null,
         "IC",
         "Invest Cont",
         442,
         998,
         null,
         null,
         "700 S  FIGUEROA                     ST",
         null,
         34.0483,
         -118.2631
        ],
        [
         200100504,
         "01/04/2020 12:00:00 AM",
         "01/04/2020 12:00:00 AM",
         40,
         1,
         "Central",
         155,
         2,
         946,
         "OTHER MISCELLANEOUS CRIME",
         "1402 0392",
         0,
         "X",
         "X",
         726,
         "POLICE FACILITY",
         null,
         null,
         "IC",
         "Invest Cont",
         946,
         998,
         null,
         null,
         "200 E  6TH                          ST",
         null,
         34.0448,
         -118.2474
        ],
        [
         200100507,
         "01/04/2020 12:00:00 AM",
         "01/04/2020 12:00:00 AM",
         200,
         1,
         "Central",
         101,
         1,
         341,
         "THEFT-GRAND ($950.01 & OVER)EXCPT,GUNS,FOWL,LIVESTK,PROD",
         "1822 0344 1402",
         23,
         "M",
         "B",
         502,
         "MULTI-UNIT DWELLING (APARTMENT, DUPLEX, ETC)",
         null,
         null,
         "IC",
         "Invest Cont",
         341,
         998,
         null,
         null,
         "700    BERNARD                      ST",
         null,
         34.0677,
         -118.2398
        ],
        [
         201710201,
         "06/19/2020 12:00:00 AM",
         "05/26/2020 12:00:00 AM",
         1925,
         17,
         "Devonshire",
         1708,
         1,
         341,
         "THEFT-GRAND ($950.01 & OVER)EXCPT,GUNS,FOWL,LIVESTK,PROD",
         "1300 0202 0378 0325",
         0,
         "X",
         "X",
         203,
         "OTHER BUSINESS",
         null,
         null,
         "AO",
         "Adult Other",
         341,
         null,
         null,
         null,
         "11900    BALBOA                       BL",
         null,
         34.2864,
         -118.5021
        ]
       ],
       "datasetInfos": [
        {
         "name": "_sqldf",
         "schema": {
          "fields": [
           {
            "metadata": {},
            "name": "DR_NO",
            "nullable": true,
            "type": "integer"
           },
           {
            "metadata": {},
            "name": "Date Rptd",
            "nullable": true,
            "type": "string"
           },
           {
            "metadata": {},
            "name": "DATE OCC",
            "nullable": true,
            "type": "string"
           },
           {
            "metadata": {},
            "name": "TIME OCC",
            "nullable": true,
            "type": "integer"
           },
           {
            "metadata": {},
            "name": "AREA",
            "nullable": true,
            "type": "integer"
           },
           {
            "metadata": {},
            "name": "AREA NAME",
            "nullable": true,
            "type": "string"
           },
           {
            "metadata": {},
            "name": "Rpt Dist No",
            "nullable": true,
            "type": "integer"
           },
           {
            "metadata": {},
            "name": "Part 1-2",
            "nullable": true,
            "type": "integer"
           },
           {
            "metadata": {},
            "name": "Crm Cd",
            "nullable": true,
            "type": "integer"
           },
           {
            "metadata": {},
            "name": "Crm Cd Desc",
            "nullable": true,
            "type": "string"
           },
           {
            "metadata": {},
            "name": "Mocodes",
            "nullable": true,
            "type": "string"
           },
           {
            "metadata": {},
            "name": "Vict Age",
            "nullable": true,
            "type": "integer"
           },
           {
            "metadata": {},
            "name": "Vict Sex",
            "nullable": true,
            "type": "string"
           },
           {
            "metadata": {},
            "name": "Vict Descent",
            "nullable": true,
            "type": "string"
           },
           {
            "metadata": {},
            "name": "Premis Cd",
            "nullable": true,
            "type": "integer"
           },
           {
            "metadata": {},
            "name": "Premis Desc",
            "nullable": true,
            "type": "string"
           },
           {
            "metadata": {},
            "name": "Weapon Used Cd",
            "nullable": true,
            "type": "integer"
           },
           {
            "metadata": {},
            "name": "Weapon Desc",
            "nullable": true,
            "type": "string"
           },
           {
            "metadata": {},
            "name": "Status",
            "nullable": true,
            "type": "string"
           },
           {
            "metadata": {},
            "name": "Status Desc",
            "nullable": true,
            "type": "string"
           },
           {
            "metadata": {},
            "name": "Crm Cd 1",
            "nullable": true,
            "type": "integer"
           },
           {
            "metadata": {},
            "name": "Crm Cd 2",
            "nullable": true,
            "type": "integer"
           },
           {
            "metadata": {},
            "name": "Crm Cd 3",
            "nullable": true,
            "type": "integer"
           },
           {
            "metadata": {},
            "name": "Crm Cd 4",
            "nullable": true,
            "type": "integer"
           },
           {
            "metadata": {},
            "name": "LOCATION",
            "nullable": true,
            "type": "string"
           },
           {
            "metadata": {},
            "name": "Cross Street",
            "nullable": true,
            "type": "string"
           },
           {
            "metadata": {},
            "name": "LAT",
            "nullable": true,
            "type": "double"
           },
           {
            "metadata": {},
            "name": "LON",
            "nullable": true,
            "type": "double"
           }
          ],
          "type": "struct"
         },
         "tableIdentifier": null,
         "typeStr": "pyspark.sql.connect.dataframe.DataFrame"
        }
       ],
       "dbfsResultPath": null,
       "isJsonSchema": true,
       "metadata": {
        "dataframeName": "_sqldf",
        "executionCount": 8
       },
       "overflow": false,
       "plotOptions": {
        "customPlotOptions": {},
        "displayType": "table",
        "pivotAggregation": null,
        "pivotColumns": null,
        "xColumns": null,
        "yColumns": null
       },
       "removedWidgets": [],
       "schema": [
        {
         "metadata": "{}",
         "name": "DR_NO",
         "type": "\"integer\""
        },
        {
         "metadata": "{}",
         "name": "Date Rptd",
         "type": "\"string\""
        },
        {
         "metadata": "{}",
         "name": "DATE OCC",
         "type": "\"string\""
        },
        {
         "metadata": "{}",
         "name": "TIME OCC",
         "type": "\"integer\""
        },
        {
         "metadata": "{}",
         "name": "AREA",
         "type": "\"integer\""
        },
        {
         "metadata": "{}",
         "name": "AREA NAME",
         "type": "\"string\""
        },
        {
         "metadata": "{}",
         "name": "Rpt Dist No",
         "type": "\"integer\""
        },
        {
         "metadata": "{}",
         "name": "Part 1-2",
         "type": "\"integer\""
        },
        {
         "metadata": "{}",
         "name": "Crm Cd",
         "type": "\"integer\""
        },
        {
         "metadata": "{}",
         "name": "Crm Cd Desc",
         "type": "\"string\""
        },
        {
         "metadata": "{}",
         "name": "Mocodes",
         "type": "\"string\""
        },
        {
         "metadata": "{}",
         "name": "Vict Age",
         "type": "\"integer\""
        },
        {
         "metadata": "{}",
         "name": "Vict Sex",
         "type": "\"string\""
        },
        {
         "metadata": "{}",
         "name": "Vict Descent",
         "type": "\"string\""
        },
        {
         "metadata": "{}",
         "name": "Premis Cd",
         "type": "\"integer\""
        },
        {
         "metadata": "{}",
         "name": "Premis Desc",
         "type": "\"string\""
        },
        {
         "metadata": "{}",
         "name": "Weapon Used Cd",
         "type": "\"integer\""
        },
        {
         "metadata": "{}",
         "name": "Weapon Desc",
         "type": "\"string\""
        },
        {
         "metadata": "{}",
         "name": "Status",
         "type": "\"string\""
        },
        {
         "metadata": "{}",
         "name": "Status Desc",
         "type": "\"string\""
        },
        {
         "metadata": "{}",
         "name": "Crm Cd 1",
         "type": "\"integer\""
        },
        {
         "metadata": "{}",
         "name": "Crm Cd 2",
         "type": "\"integer\""
        },
        {
         "metadata": "{}",
         "name": "Crm Cd 3",
         "type": "\"integer\""
        },
        {
         "metadata": "{}",
         "name": "Crm Cd 4",
         "type": "\"integer\""
        },
        {
         "metadata": "{}",
         "name": "LOCATION",
         "type": "\"string\""
        },
        {
         "metadata": "{}",
         "name": "Cross Street",
         "type": "\"string\""
        },
        {
         "metadata": "{}",
         "name": "LAT",
         "type": "\"double\""
        },
        {
         "metadata": "{}",
         "name": "LON",
         "type": "\"double\""
        }
       ],
       "type": "table"
      }
     },
     "output_type": "display_data"
    }
   ],
   "source": [
    "%sql\n",
    "\n",
    "SELECT * FROM la_tbl limit 10;"
   ]
  },
  {
   "cell_type": "code",
   "execution_count": 0,
   "metadata": {
    "application/vnd.databricks.v1+cell": {
     "cellMetadata": {
      "byteLimit": 2048000,
      "rowLimit": 10000
     },
     "inputWidgets": {},
     "nuid": "211f047a-491e-4e64-9b9a-7c116c27fbc5",
     "showTitle": false,
     "title": ""
    }
   },
   "outputs": [
    {
     "output_type": "stream",
     "name": "stdout",
     "output_type": "stream",
     "text": [
      "root\n |-- DR_NO: integer (nullable = true)\n |-- Date Rptd: string (nullable = true)\n |-- DATE OCC: string (nullable = true)\n |-- TIME OCC: integer (nullable = true)\n |-- AREA: integer (nullable = true)\n |-- AREA NAME: string (nullable = true)\n |-- Rpt Dist No: integer (nullable = true)\n |-- Part 1-2: integer (nullable = true)\n |-- Crm Cd: integer (nullable = true)\n |-- Crm Cd Desc: string (nullable = true)\n |-- Mocodes: string (nullable = true)\n |-- Vict Age: integer (nullable = true)\n |-- Vict Sex: string (nullable = true)\n |-- Vict Descent: string (nullable = true)\n |-- Premis Cd: integer (nullable = true)\n |-- Premis Desc: string (nullable = true)\n |-- Weapon Used Cd: integer (nullable = true)\n |-- Weapon Desc: string (nullable = true)\n |-- Status: string (nullable = true)\n |-- Status Desc: string (nullable = true)\n |-- Crm Cd 1: integer (nullable = true)\n |-- Crm Cd 2: integer (nullable = true)\n |-- Crm Cd 3: integer (nullable = true)\n |-- Crm Cd 4: integer (nullable = true)\n |-- LOCATION: string (nullable = true)\n |-- Cross Street: string (nullable = true)\n |-- LAT: double (nullable = true)\n |-- LON: double (nullable = true)\n\n"
     ]
    }
   ],
   "source": [
    "la_df.printSchema()"
   ]
  },
  {
   "cell_type": "code",
   "execution_count": 0,
   "metadata": {
    "application/vnd.databricks.v1+cell": {
     "cellMetadata": {
      "byteLimit": 2048000,
      "rowLimit": 10000
     },
     "inputWidgets": {},
     "nuid": "873387cb-51e6-4707-8d03-c813bfda1e3d",
     "showTitle": false,
     "title": ""
    }
   },
   "outputs": [
    {
     "output_type": "display_data",
     "data": {
      "text/plain": [
       "\u001B[0;36m  File \u001B[0;32m<command-2339045108693259>, line 26\u001B[0;36m\u001B[0m\n",
       "\u001B[0;31m    Sample output -\u001B[0m\n",
       "\u001B[0m           ^\u001B[0m\n",
       "\u001B[0;31mSyntaxError\u001B[0m\u001B[0;31m:\u001B[0m invalid syntax\n"
      ]
     },
     "metadata": {
      "application/vnd.databricks.v1+output": {
       "addedWidgets": {},
       "arguments": {},
       "datasetInfos": [],
       "jupyterProps": {
        "ename": "SyntaxError",
        "evalue": "invalid syntax (command-2339045108693259-3315476611, line 26)"
       },
       "metadata": {
        "errorSummary": "<span class='ansi-red-fg'>SyntaxError</span>: invalid syntax (command-2339045108693259-3315476611, line 26)"
       },
       "removedWidgets": [],
       "sqlProps": null,
       "stackFrames": [
        "\u001B[0;36m  File \u001B[0;32m<command-2339045108693259>, line 26\u001B[0;36m\u001B[0m\n\u001B[0;31m    Sample output -\u001B[0m\n\u001B[0m           ^\u001B[0m\n\u001B[0;31mSyntaxError\u001B[0m\u001B[0;31m:\u001B[0m invalid syntax\n"
       ],
       "type": "baseError"
      }
     },
     "output_type": "display_data"
    }
   ],
   "source": [
    "# Questions\n",
    "# ---------\n",
    "\n",
    "# 1. What is the date range reported in this data set? \n",
    "##### Expected columns - year\n",
    "\n",
    "# ---------\n",
    "\n",
    "# 2. Which crime saw the most increase in 2021 compared to 2020? \n",
    "##### Expected columns - year, crime description, crime reported in 2021, crime reported in 2022, increase in crimes\n",
    "\n",
    "# Additional detail: Dataset reports different types of crimes each year. I want to find out which crime saw the most increase from year Covid start year of 2020 to 2021?\n",
    "\n",
    "# ---------\n",
    "\n",
    "# 3. For above question, would your answer change if the increase in crime in reported in % increase in crimes vs. total increase in crimes (i.e. just number)?\n",
    "##### Expected columns - year, crime description, crime reported in 2021, crime reported in 2022, % increase in crimes\n",
    "\n",
    "# ---------\n",
    "\n",
    "# 4. Imagine a year has four seasons - \n",
    "    # > Winter: Jan - Mar\n",
    "    # > Spring: Apr - Jun \n",
    "    # > Summer: Jul - Sep \n",
    "    # > Fall: Oct - Dec\n",
    "# For the year 2022, what are the top three crime by each season?\n",
    "\n",
    "##### Expected columns - Year, Season (i.e Winter, Spring), Crime description, crime count, Rank of crime (in top 3)\n",
    "\n",
    "# Sample output (not real data) - \n",
    "# 2022    Winter  Theft 2000 1\n",
    "# 2022    Winter  Break-in 1000 2\n",
    "# 2022    Winter  Car Jacking 500 3\n",
    "# ....remaining 3 seasons.......\n",
    "\n",
    "# ---------\n",
    "\n",
    "# 5. What are the top three crimes faced by this age bracket in 2022: 20-29; 30-39; 40-49; 50-59 (the age of the perpetrator is within that age bracket)\n",
    "\n",
    "##### Expected columns - Year, Age Bracket, Crime Description, crime count, Rank of crime\n",
    "\n",
    "# Sample output (not real data) - \n",
    "# 2022 20-29    Theft   2000 1\n",
    "# 2022 20-29    Break-in   1000 2\n",
    "# 2022 20-29    Car Jacking   500 3\n",
    "# ....remaining age brackets .......\n",
    "# ---------\n",
    "# 6. Show the top three crimes that occured on the street for years 2022-2023? (Hint: Show top three crimes by year). \n",
    "\n",
    "##### Expected columns - Year, Crime Description, crime count, Rank of crime\n",
    "\n",
    "# Sample output (not real data) - \n",
    "# 2022 Auto Theft 1000 1\n",
    "# 2022 Retail Theft 500 2\n",
    "# 2022 Break-in 100 3\n"
   ]
  },
  {
   "cell_type": "code",
   "execution_count": 0,
   "metadata": {
    "application/vnd.databricks.v1+cell": {
     "cellMetadata": {},
     "inputWidgets": {},
     "nuid": "52fdb9b1-6dd9-487b-8870-b7e2c8cc4a90",
     "showTitle": false,
     "title": ""
    }
   },
   "outputs": [],
   "source": []
  }
 ],
 "metadata": {
  "application/vnd.databricks.v1+notebook": {
   "dashboards": [],
   "language": "python",
   "notebookMetadata": {
    "mostRecentlyExecutedCommandWithImplicitDF": {
     "commandId": 2339045108693258,
     "dataframes": [
      "_sqldf"
     ]
    },
    "pythonIndentUnit": 4
   },
   "notebookName": "SQL_exercise_05132024",
   "widgets": {}
  }
 },
 "nbformat": 4,
 "nbformat_minor": 0
}
